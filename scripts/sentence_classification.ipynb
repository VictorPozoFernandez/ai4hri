{
 "cells": [
  {
   "cell_type": "code",
   "execution_count": 64,
   "metadata": {},
   "outputs": [
    {
     "name": "stdout",
     "output_type": "stream",
     "text": [
      "<bound method NDFrame.head of                                        CUSTOMER_SPEECH  \\\n",
      "2    yes I wanted if you have possible I want one c...   \n",
      "3                                                 okay   \n",
      "4                            the result does look good   \n",
      "5      let me think about it I'll get back to you okay   \n",
      "12   yes I wanted if you have possible I want one c...   \n",
      "..                                                 ...   \n",
      "695  I'm just browsing just trying to see what came...   \n",
      "696                                         let me see   \n",
      "697                          what model is this a DSLR   \n",
      "698  yeah but this thing seems to be quite heavy yo...   \n",
      "699                                              i see   \n",
      "\n",
      "                                     SHOPKEEPER_SPEECH  \n",
      "2    Yes we do have this nikon camera it's a point ...  \n",
      "3    This camera is very easy to use. Just choose a...  \n",
      "4    Because it's fully automatic sometimes gets a ...  \n",
      "5           thanks for your time have a good afternoon  \n",
      "12   This is the nikon, it's ideal for taking simpl...  \n",
      "..                                                 ...  \n",
      "695  this is point and shoot camera, it comes in a ...  \n",
      "696  the picture quality is superb you would be abl...  \n",
      "697  I'm afraid not, none of our cameras come in green  \n",
      "698  yes it comes with preset mode so it would adju...  \n",
      "699  for this one everything's automatic, point-and...  \n",
      "\n",
      "[521 rows x 2 columns]>\n"
     ]
    }
   ],
   "source": [
    "import rospy\n",
    "from std_msgs.msg import String\n",
    "from ai4hri.msg import String_list\n",
    "import openai\n",
    "import os\n",
    "import pandas as pd\n",
    "\n",
    "df = pd.read_csv(\"/home/victor/catkin_ws/src/ai4hri/simulated data.csv\")\n",
    "extracted_columns = df.iloc[:700,[14, 16]]\n",
    "extracted_columns = extracted_columns.dropna()\n",
    "\n",
    "print(extracted_columns.head)"
   ]
  },
  {
   "cell_type": "code",
   "execution_count": 65,
   "metadata": {},
   "outputs": [
    {
     "data": {
      "text/html": [
       "<div>\n",
       "<style scoped>\n",
       "    .dataframe tbody tr th:only-of-type {\n",
       "        vertical-align: middle;\n",
       "    }\n",
       "\n",
       "    .dataframe tbody tr th {\n",
       "        vertical-align: top;\n",
       "    }\n",
       "\n",
       "    .dataframe thead th {\n",
       "        text-align: right;\n",
       "    }\n",
       "</style>\n",
       "<table border=\"1\" class=\"dataframe\">\n",
       "  <thead>\n",
       "    <tr style=\"text-align: right;\">\n",
       "      <th></th>\n",
       "      <th>prompt</th>\n",
       "      <th>completion</th>\n",
       "    </tr>\n",
       "  </thead>\n",
       "  <tbody>\n",
       "    <tr>\n",
       "      <th>0</th>\n",
       "      <td>yes I wanted if you have possible I want one c...</td>\n",
       "      <td>Customer END</td>\n",
       "    </tr>\n",
       "    <tr>\n",
       "      <th>1</th>\n",
       "      <td>okay ###</td>\n",
       "      <td>Customer END</td>\n",
       "    </tr>\n",
       "    <tr>\n",
       "      <th>2</th>\n",
       "      <td>the result does look good ###</td>\n",
       "      <td>Customer END</td>\n",
       "    </tr>\n",
       "    <tr>\n",
       "      <th>3</th>\n",
       "      <td>let me think about it I'll get back to you oka...</td>\n",
       "      <td>Customer END</td>\n",
       "    </tr>\n",
       "    <tr>\n",
       "      <th>4</th>\n",
       "      <td>yes I wanted if you have possible I want one c...</td>\n",
       "      <td>Customer END</td>\n",
       "    </tr>\n",
       "    <tr>\n",
       "      <th>...</th>\n",
       "      <td>...</td>\n",
       "      <td>...</td>\n",
       "    </tr>\n",
       "    <tr>\n",
       "      <th>1037</th>\n",
       "      <td>this is point and shoot camera, it comes in a ...</td>\n",
       "      <td>Shopkeeper END</td>\n",
       "    </tr>\n",
       "    <tr>\n",
       "      <th>1038</th>\n",
       "      <td>the picture quality is superb you would be abl...</td>\n",
       "      <td>Shopkeeper END</td>\n",
       "    </tr>\n",
       "    <tr>\n",
       "      <th>1039</th>\n",
       "      <td>I'm afraid not, none of our cameras come in gr...</td>\n",
       "      <td>Shopkeeper END</td>\n",
       "    </tr>\n",
       "    <tr>\n",
       "      <th>1040</th>\n",
       "      <td>yes it comes with preset mode so it would adju...</td>\n",
       "      <td>Shopkeeper END</td>\n",
       "    </tr>\n",
       "    <tr>\n",
       "      <th>1041</th>\n",
       "      <td>for this one everything's automatic, point-and...</td>\n",
       "      <td>Shopkeeper END</td>\n",
       "    </tr>\n",
       "  </tbody>\n",
       "</table>\n",
       "<p>1042 rows × 2 columns</p>\n",
       "</div>"
      ],
      "text/plain": [
       "                                                 prompt       completion\n",
       "0     yes I wanted if you have possible I want one c...     Customer END\n",
       "1                                             okay ###      Customer END\n",
       "2                        the result does look good ###      Customer END\n",
       "3     let me think about it I'll get back to you oka...     Customer END\n",
       "4     yes I wanted if you have possible I want one c...     Customer END\n",
       "...                                                 ...              ...\n",
       "1037  this is point and shoot camera, it comes in a ...   Shopkeeper END\n",
       "1038  the picture quality is superb you would be abl...   Shopkeeper END\n",
       "1039  I'm afraid not, none of our cameras come in gr...   Shopkeeper END\n",
       "1040  yes it comes with preset mode so it would adju...   Shopkeeper END\n",
       "1041  for this one everything's automatic, point-and...   Shopkeeper END\n",
       "\n",
       "[1042 rows x 2 columns]"
      ]
     },
     "execution_count": 65,
     "metadata": {},
     "output_type": "execute_result"
    }
   ],
   "source": [
    "df = pd.DataFrame()\n",
    "\n",
    "for i in range(521):\n",
    "    df.loc[i,0] = extracted_columns.iloc[i,0] + \" ### \"\n",
    "    df.loc[i,1] = \" Customer END\"\n",
    "\n",
    "for i in range (521):\n",
    "    df.loc[i+521,0] = extracted_columns.iloc[i,1] + \" ### \"\n",
    "    df.loc[i+521,1] = \" Shopkeeper END\"\n",
    "\n",
    "df.columns = ['prompt', 'completion']\n",
    "\n",
    "df"
   ]
  },
  {
   "cell_type": "code",
   "execution_count": 66,
   "metadata": {},
   "outputs": [],
   "source": [
    "\n",
    "df.to_csv(\"/home/victor/catkin_ws/src/ai4hri/dataset_sentences.csv\", index=False)"
   ]
  },
  {
   "cell_type": "code",
   "execution_count": 12,
   "metadata": {},
   "outputs": [
    {
     "name": "stdout",
     "output_type": "stream",
     "text": [
      " Shopkeeper \n"
     ]
    }
   ],
   "source": [
    "import openai\n",
    "import os\n",
    "\n",
    "openai.organization = os.environ.get(\"OPENAI_ORG_ID\")\n",
    "openai.api_key = os.environ.get(\"OPENAI_API_KEY\")\n",
    "\n",
    "classification_result = openai.Completion.create(\n",
    "    model=\"ada:ft-personal-2023-03-07-22-12-15\",\n",
    "    prompt=\"this one is available in red, indeed ### \",\n",
    "    stop=\"END\")\n",
    "\n",
    "print(classification_result[\"choices\"][0][\"text\"])"
   ]
  }
 ],
 "metadata": {
  "kernelspec": {
   "display_name": "Python 3",
   "language": "python",
   "name": "python3"
  },
  "language_info": {
   "codemirror_mode": {
    "name": "ipython",
    "version": 3
   },
   "file_extension": ".py",
   "mimetype": "text/x-python",
   "name": "python",
   "nbconvert_exporter": "python",
   "pygments_lexer": "ipython3",
   "version": "3.8.10"
  },
  "orig_nbformat": 4,
  "vscode": {
   "interpreter": {
    "hash": "916dbcbb3f70747c44a77c7bcd40155683ae19c65e1c03b4aa3499c5328201f1"
   }
  }
 },
 "nbformat": 4,
 "nbformat_minor": 2
}
