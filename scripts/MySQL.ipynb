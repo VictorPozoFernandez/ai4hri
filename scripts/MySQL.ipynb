{
 "cells": [
  {
   "cell_type": "code",
   "execution_count": 1,
   "metadata": {},
   "outputs": [
    {
     "name": "stdout",
     "output_type": "stream",
     "text": [
      "[('nikon', 0.4495), ('camera', 0.2944), ('use', 0.1597), ('yes', 0.1456), ('everyday', 0.13), ('shoot', 0.1262), ('point', 0.103), ('just', 0.0578)]\n"
     ]
    }
   ],
   "source": [
    "import numpy as np\n",
    "\n",
    "keyword_dict = np.load('/home/victor/catkin_ws/src/ai4hri/scripts/keyword_dict.npy',allow_pickle='TRUE').item()\n",
    "\n",
    "keywords = keyword_dict[19]\n",
    "print(keywords)"
   ]
  },
  {
   "cell_type": "code",
   "execution_count": 2,
   "metadata": {},
   "outputs": [
    {
     "name": "stdout",
     "output_type": "stream",
     "text": [
      "Nikon Coolpix S2800\n",
      "Sony Alpha a6000\n",
      "Canon EOS 5D Mark III\n"
     ]
    }
   ],
   "source": [
    "import mysql.connector\n",
    "import os\n",
    "\n",
    "db = mysql.connector.connect(\n",
    "  host=\"localhost\",\n",
    "  user=\"root\",\n",
    "  password=os.environ.get(\"MYSQL_PASSWRD\"),\n",
    "  database=\"Camera_Store\"\n",
    ")\n",
    "\n",
    "mycursor = db.cursor()\n",
    "mycursor.execute(\"SELECT Model FROM Camera\")\n",
    "\n",
    "models = []\n",
    "for row in mycursor:\n",
    "    print(row[0])\n",
    "    models.append(row[0])\n"
   ]
  },
  {
   "cell_type": "code",
   "execution_count": 3,
   "metadata": {},
   "outputs": [
    {
     "name": "stdout",
     "output_type": "stream",
     "text": [
      "Nikon Coolpix S2800\n"
     ]
    }
   ],
   "source": [
    "from collections import Counter\n",
    "import random\n",
    "\n",
    "possible_models = []\n",
    "possible_models_2 = []\n",
    "\n",
    "for keyword in keywords:\n",
    "\n",
    "    for row in models:\n",
    "\n",
    "        if keyword[0] in row.lower():\n",
    "            possible_models.append(row)\n",
    "\n",
    "if len(possible_models)!=0:\n",
    "\n",
    "    counts = Counter(possible_models)\n",
    "    max_count = counts.most_common(1)[0][1]\n",
    "\n",
    "    for value, count in counts.most_common():\n",
    "        if count == max_count:\n",
    "            possible_models_2.append(value)\n",
    "    \n",
    "    if len(possible_models_2) == 1:\n",
    "        model = possible_models_2[0] \n",
    "    \n",
    "    else:\n",
    "        #Look the costumer and shopkeeper position to identify the camera they are refering to. For now, we choose random from the possible_models_2 list\n",
    "        model = random.choice(possible_models_2)\n",
    "\n",
    "\n",
    "else:\n",
    "    #Look the costumer and shopkeeper position to identify the camera they are refering to. For now, we choose random from the models list\n",
    "    model = random.choice(models)\n",
    "\n",
    "# if model =! camera closest to costumer and shopkeeper position:\n",
    "        #model2 = (Look the costumer and shopkeeper position to identify the camera they are using as comparison)\n",
    "\n",
    "print(model)\n",
    "#print(model2)\n"
   ]
  },
  {
   "cell_type": "code",
   "execution_count": 106,
   "metadata": {},
   "outputs": [
    {
     "name": "stdout",
     "output_type": "stream",
     "text": [
      "['this camera has a ISO up to 6400 with little noise', 'Model', 'Price', 'Product ID', 'Type of camera', 'Weight', 'Automatic features', 'Product ID', 'Color', 'Product ID', 'Performance Specifications', 'Product ID', 'Employer ID', 'Product ID', 'Quantity', 'Transaction date', 'Transaction ID', 'Age', 'Email', 'Employer ID', 'First name', 'Last Name', 'Phone Number', 'Salary', 'Social Security Number', 'Store ID', 'Location', 'Manager ID', 'Store ID']\n"
     ]
    }
   ],
   "source": [
    "import mysql.connector\n",
    "import os\n",
    "\n",
    "db = mysql.connector.connect(\n",
    "  host=\"localhost\",\n",
    "  user=\"root\",\n",
    "  password=os.environ.get(\"MYSQL_PASSWRD\"),\n",
    "  database=\"Camera_Store\"\n",
    ")\n",
    "\n",
    "mycursor = db.cursor()\n",
    "mycursor.execute(\"SELECT COLUMN_NAME FROM INFORMATION_SCHEMA.COLUMNS WHERE TABLE_SCHEMA = 'Camera_Store';\")\n",
    "\n",
    "columns = []\n",
    "for row in mycursor:\n",
    "    adjusted_row = row[0].replace(\"_\", \" \")\n",
    "    columns.append(adjusted_row)\n",
    "\n",
    "columns.insert(0,\"this camera has a ISO up to 6400 with little noise\")\n",
    "\n",
    "print(columns)\n",
    "\n"
   ]
  },
  {
   "cell_type": "code",
   "execution_count": 107,
   "metadata": {},
   "outputs": [
    {
     "name": "stdout",
     "output_type": "stream",
     "text": [
      "['Type_of_camera', 'Performance_Specifications', 'Quantity']\n"
     ]
    }
   ],
   "source": [
    "from sklearn.metrics.pairwise import cosine_similarity\n",
    "import openai\n",
    "\n",
    "openai.organization = os.environ.get(\"OPENAI_ORG_ID\")\n",
    "openai.api_key = os.environ.get(\"OPENAI_API_KEY\")\n",
    "\n",
    "model = \"text-embedding-ada-002\"\n",
    "\n",
    "res = openai.Embedding.create( input = columns, engine=model)\n",
    "\n",
    "embedded_columns=[]\n",
    "for vec in res[\"data\"]:\n",
    "    embedded_columns.append(vec[\"embedding\"])\n",
    "\n",
    "utterance = embedded_columns[0]\n",
    "embedded_columns.pop(0)\n",
    "columns.pop(0)\n",
    "\n",
    "\n",
    "scores = []\n",
    "for i, column_candidate in enumerate(embedded_columns):\n",
    "    score = cosine_similarity([utterance],[column_candidate])\n",
    "    scores.append(score)\n",
    "\n",
    "selected_columns = []\n",
    "best_scores = sorted(zip(scores, columns), reverse=True)[:3]\n",
    "\n",
    "for score in best_scores:\n",
    "    selected_column= score[1].replace(\" \", \"_\")\n",
    "    selected_columns.append(selected_column)\n",
    "\n",
    "print(selected_columns)\n"
   ]
  }
 ],
 "metadata": {
  "kernelspec": {
   "display_name": "Python 3",
   "language": "python",
   "name": "python3"
  },
  "language_info": {
   "codemirror_mode": {
    "name": "ipython",
    "version": 3
   },
   "file_extension": ".py",
   "mimetype": "text/x-python",
   "name": "python",
   "nbconvert_exporter": "python",
   "pygments_lexer": "ipython3",
   "version": "3.8.10"
  },
  "orig_nbformat": 4,
  "vscode": {
   "interpreter": {
    "hash": "916dbcbb3f70747c44a77c7bcd40155683ae19c65e1c03b4aa3499c5328201f1"
   }
  }
 },
 "nbformat": 4,
 "nbformat_minor": 2
}
